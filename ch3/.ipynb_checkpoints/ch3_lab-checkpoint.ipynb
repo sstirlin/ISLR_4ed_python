{
 "metadata": {
  "name": "",
  "signature": "sha256:42f41969f9690157a253ba8fe41c5401e76a0f03726a680b52efe6e4ee2a24ca"
 },
 "nbformat": 3,
 "nbformat_minor": 0,
 "worksheets": [
  {
   "cells": [
    {
     "cell_type": "markdown",
     "metadata": {},
     "source": [
      "# Libraries"
     ]
    },
    {
     "cell_type": "code",
     "collapsed": false,
     "input": [
      "# The sklearn package supplies some canned datasets for experimenting\n",
      "# they are just dicts\n",
      "from sklearn.datasets import load_iris\n",
      "\n",
      "data = load_iris()\n",
      "data"
     ],
     "language": "python",
     "metadata": {},
     "outputs": [
      {
       "metadata": {},
       "output_type": "pyout",
       "prompt_number": 28,
       "text": [
        "{'DESCR': 'Iris Plants Database\\n\\nNotes\\n-----\\nData Set Characteristics:\\n    :Number of Instances: 150 (50 in each of three classes)\\n    :Number of Attributes: 4 numeric, predictive attributes and the class\\n    :Attribute Information:\\n        - sepal length in cm\\n        - sepal width in cm\\n        - petal length in cm\\n        - petal width in cm\\n        - class:\\n                - Iris-Setosa\\n                - Iris-Versicolour\\n                - Iris-Virginica\\n    :Summary Statistics:\\n    ============== ==== ==== ======= ===== ====================\\n                    Min  Max   Mean    SD   Class Correlation\\n    ============== ==== ==== ======= ===== ====================\\n    sepal length:   4.3  7.9   5.84   0.83    0.7826\\n    sepal width:    2.0  4.4   3.05   0.43   -0.4194\\n    petal length:   1.0  6.9   3.76   1.76    0.9490  (high!)\\n    petal width:    0.1  2.5   1.20  0.76     0.9565  (high!)\\n    ============== ==== ==== ======= ===== ====================\\n    :Missing Attribute Values: None\\n    :Class Distribution: 33.3% for each of 3 classes.\\n    :Creator: R.A. Fisher\\n    :Donor: Michael Marshall (MARSHALL%PLU@io.arc.nasa.gov)\\n    :Date: July, 1988\\n\\nThis is a copy of UCI ML iris datasets.\\nhttp://archive.ics.uci.edu/ml/datasets/Iris\\n\\nThe famous Iris database, first used by Sir R.A Fisher\\n\\nThis is perhaps the best known database to be found in the\\npattern recognition literature.  Fisher\\'s paper is a classic in the field and\\nis referenced frequently to this day.  (See Duda & Hart, for example.)  The\\ndata set contains 3 classes of 50 instances each, where each class refers to a\\ntype of iris plant.  One class is linearly separable from the other 2; the\\nlatter are NOT linearly separable from each other.\\n\\nReferences\\n----------\\n   - Fisher,R.A. \"The use of multiple measurements in taxonomic problems\"\\n     Annual Eugenics, 7, Part II, 179-188 (1936); also in \"Contributions to\\n     Mathematical Statistics\" (John Wiley, NY, 1950).\\n   - Duda,R.O., & Hart,P.E. (1973) Pattern Classification and Scene Analysis.\\n     (Q327.D83) John Wiley & Sons.  ISBN 0-471-22361-1.  See page 218.\\n   - Dasarathy, B.V. (1980) \"Nosing Around the Neighborhood: A New System\\n     Structure and Classification Rule for Recognition in Partially Exposed\\n     Environments\".  IEEE Transactions on Pattern Analysis and Machine\\n     Intelligence, Vol. PAMI-2, No. 1, 67-71.\\n   - Gates, G.W. (1972) \"The Reduced Nearest Neighbor Rule\".  IEEE Transactions\\n     on Information Theory, May 1972, 431-433.\\n   - See also: 1988 MLC Proceedings, 54-64.  Cheeseman et al\"s AUTOCLASS II\\n     conceptual clustering system finds 3 classes in the data.\\n   - Many, many more ...\\n',\n",
        " 'data': array([[ 5.1,  3.5,  1.4,  0.2],\n",
        "        [ 4.9,  3. ,  1.4,  0.2],\n",
        "        [ 4.7,  3.2,  1.3,  0.2],\n",
        "        [ 4.6,  3.1,  1.5,  0.2],\n",
        "        [ 5. ,  3.6,  1.4,  0.2],\n",
        "        [ 5.4,  3.9,  1.7,  0.4],\n",
        "        [ 4.6,  3.4,  1.4,  0.3],\n",
        "        [ 5. ,  3.4,  1.5,  0.2],\n",
        "        [ 4.4,  2.9,  1.4,  0.2],\n",
        "        [ 4.9,  3.1,  1.5,  0.1],\n",
        "        [ 5.4,  3.7,  1.5,  0.2],\n",
        "        [ 4.8,  3.4,  1.6,  0.2],\n",
        "        [ 4.8,  3. ,  1.4,  0.1],\n",
        "        [ 4.3,  3. ,  1.1,  0.1],\n",
        "        [ 5.8,  4. ,  1.2,  0.2],\n",
        "        [ 5.7,  4.4,  1.5,  0.4],\n",
        "        [ 5.4,  3.9,  1.3,  0.4],\n",
        "        [ 5.1,  3.5,  1.4,  0.3],\n",
        "        [ 5.7,  3.8,  1.7,  0.3],\n",
        "        [ 5.1,  3.8,  1.5,  0.3],\n",
        "        [ 5.4,  3.4,  1.7,  0.2],\n",
        "        [ 5.1,  3.7,  1.5,  0.4],\n",
        "        [ 4.6,  3.6,  1. ,  0.2],\n",
        "        [ 5.1,  3.3,  1.7,  0.5],\n",
        "        [ 4.8,  3.4,  1.9,  0.2],\n",
        "        [ 5. ,  3. ,  1.6,  0.2],\n",
        "        [ 5. ,  3.4,  1.6,  0.4],\n",
        "        [ 5.2,  3.5,  1.5,  0.2],\n",
        "        [ 5.2,  3.4,  1.4,  0.2],\n",
        "        [ 4.7,  3.2,  1.6,  0.2],\n",
        "        [ 4.8,  3.1,  1.6,  0.2],\n",
        "        [ 5.4,  3.4,  1.5,  0.4],\n",
        "        [ 5.2,  4.1,  1.5,  0.1],\n",
        "        [ 5.5,  4.2,  1.4,  0.2],\n",
        "        [ 4.9,  3.1,  1.5,  0.1],\n",
        "        [ 5. ,  3.2,  1.2,  0.2],\n",
        "        [ 5.5,  3.5,  1.3,  0.2],\n",
        "        [ 4.9,  3.1,  1.5,  0.1],\n",
        "        [ 4.4,  3. ,  1.3,  0.2],\n",
        "        [ 5.1,  3.4,  1.5,  0.2],\n",
        "        [ 5. ,  3.5,  1.3,  0.3],\n",
        "        [ 4.5,  2.3,  1.3,  0.3],\n",
        "        [ 4.4,  3.2,  1.3,  0.2],\n",
        "        [ 5. ,  3.5,  1.6,  0.6],\n",
        "        [ 5.1,  3.8,  1.9,  0.4],\n",
        "        [ 4.8,  3. ,  1.4,  0.3],\n",
        "        [ 5.1,  3.8,  1.6,  0.2],\n",
        "        [ 4.6,  3.2,  1.4,  0.2],\n",
        "        [ 5.3,  3.7,  1.5,  0.2],\n",
        "        [ 5. ,  3.3,  1.4,  0.2],\n",
        "        [ 7. ,  3.2,  4.7,  1.4],\n",
        "        [ 6.4,  3.2,  4.5,  1.5],\n",
        "        [ 6.9,  3.1,  4.9,  1.5],\n",
        "        [ 5.5,  2.3,  4. ,  1.3],\n",
        "        [ 6.5,  2.8,  4.6,  1.5],\n",
        "        [ 5.7,  2.8,  4.5,  1.3],\n",
        "        [ 6.3,  3.3,  4.7,  1.6],\n",
        "        [ 4.9,  2.4,  3.3,  1. ],\n",
        "        [ 6.6,  2.9,  4.6,  1.3],\n",
        "        [ 5.2,  2.7,  3.9,  1.4],\n",
        "        [ 5. ,  2. ,  3.5,  1. ],\n",
        "        [ 5.9,  3. ,  4.2,  1.5],\n",
        "        [ 6. ,  2.2,  4. ,  1. ],\n",
        "        [ 6.1,  2.9,  4.7,  1.4],\n",
        "        [ 5.6,  2.9,  3.6,  1.3],\n",
        "        [ 6.7,  3.1,  4.4,  1.4],\n",
        "        [ 5.6,  3. ,  4.5,  1.5],\n",
        "        [ 5.8,  2.7,  4.1,  1. ],\n",
        "        [ 6.2,  2.2,  4.5,  1.5],\n",
        "        [ 5.6,  2.5,  3.9,  1.1],\n",
        "        [ 5.9,  3.2,  4.8,  1.8],\n",
        "        [ 6.1,  2.8,  4. ,  1.3],\n",
        "        [ 6.3,  2.5,  4.9,  1.5],\n",
        "        [ 6.1,  2.8,  4.7,  1.2],\n",
        "        [ 6.4,  2.9,  4.3,  1.3],\n",
        "        [ 6.6,  3. ,  4.4,  1.4],\n",
        "        [ 6.8,  2.8,  4.8,  1.4],\n",
        "        [ 6.7,  3. ,  5. ,  1.7],\n",
        "        [ 6. ,  2.9,  4.5,  1.5],\n",
        "        [ 5.7,  2.6,  3.5,  1. ],\n",
        "        [ 5.5,  2.4,  3.8,  1.1],\n",
        "        [ 5.5,  2.4,  3.7,  1. ],\n",
        "        [ 5.8,  2.7,  3.9,  1.2],\n",
        "        [ 6. ,  2.7,  5.1,  1.6],\n",
        "        [ 5.4,  3. ,  4.5,  1.5],\n",
        "        [ 6. ,  3.4,  4.5,  1.6],\n",
        "        [ 6.7,  3.1,  4.7,  1.5],\n",
        "        [ 6.3,  2.3,  4.4,  1.3],\n",
        "        [ 5.6,  3. ,  4.1,  1.3],\n",
        "        [ 5.5,  2.5,  4. ,  1.3],\n",
        "        [ 5.5,  2.6,  4.4,  1.2],\n",
        "        [ 6.1,  3. ,  4.6,  1.4],\n",
        "        [ 5.8,  2.6,  4. ,  1.2],\n",
        "        [ 5. ,  2.3,  3.3,  1. ],\n",
        "        [ 5.6,  2.7,  4.2,  1.3],\n",
        "        [ 5.7,  3. ,  4.2,  1.2],\n",
        "        [ 5.7,  2.9,  4.2,  1.3],\n",
        "        [ 6.2,  2.9,  4.3,  1.3],\n",
        "        [ 5.1,  2.5,  3. ,  1.1],\n",
        "        [ 5.7,  2.8,  4.1,  1.3],\n",
        "        [ 6.3,  3.3,  6. ,  2.5],\n",
        "        [ 5.8,  2.7,  5.1,  1.9],\n",
        "        [ 7.1,  3. ,  5.9,  2.1],\n",
        "        [ 6.3,  2.9,  5.6,  1.8],\n",
        "        [ 6.5,  3. ,  5.8,  2.2],\n",
        "        [ 7.6,  3. ,  6.6,  2.1],\n",
        "        [ 4.9,  2.5,  4.5,  1.7],\n",
        "        [ 7.3,  2.9,  6.3,  1.8],\n",
        "        [ 6.7,  2.5,  5.8,  1.8],\n",
        "        [ 7.2,  3.6,  6.1,  2.5],\n",
        "        [ 6.5,  3.2,  5.1,  2. ],\n",
        "        [ 6.4,  2.7,  5.3,  1.9],\n",
        "        [ 6.8,  3. ,  5.5,  2.1],\n",
        "        [ 5.7,  2.5,  5. ,  2. ],\n",
        "        [ 5.8,  2.8,  5.1,  2.4],\n",
        "        [ 6.4,  3.2,  5.3,  2.3],\n",
        "        [ 6.5,  3. ,  5.5,  1.8],\n",
        "        [ 7.7,  3.8,  6.7,  2.2],\n",
        "        [ 7.7,  2.6,  6.9,  2.3],\n",
        "        [ 6. ,  2.2,  5. ,  1.5],\n",
        "        [ 6.9,  3.2,  5.7,  2.3],\n",
        "        [ 5.6,  2.8,  4.9,  2. ],\n",
        "        [ 7.7,  2.8,  6.7,  2. ],\n",
        "        [ 6.3,  2.7,  4.9,  1.8],\n",
        "        [ 6.7,  3.3,  5.7,  2.1],\n",
        "        [ 7.2,  3.2,  6. ,  1.8],\n",
        "        [ 6.2,  2.8,  4.8,  1.8],\n",
        "        [ 6.1,  3. ,  4.9,  1.8],\n",
        "        [ 6.4,  2.8,  5.6,  2.1],\n",
        "        [ 7.2,  3. ,  5.8,  1.6],\n",
        "        [ 7.4,  2.8,  6.1,  1.9],\n",
        "        [ 7.9,  3.8,  6.4,  2. ],\n",
        "        [ 6.4,  2.8,  5.6,  2.2],\n",
        "        [ 6.3,  2.8,  5.1,  1.5],\n",
        "        [ 6.1,  2.6,  5.6,  1.4],\n",
        "        [ 7.7,  3. ,  6.1,  2.3],\n",
        "        [ 6.3,  3.4,  5.6,  2.4],\n",
        "        [ 6.4,  3.1,  5.5,  1.8],\n",
        "        [ 6. ,  3. ,  4.8,  1.8],\n",
        "        [ 6.9,  3.1,  5.4,  2.1],\n",
        "        [ 6.7,  3.1,  5.6,  2.4],\n",
        "        [ 6.9,  3.1,  5.1,  2.3],\n",
        "        [ 5.8,  2.7,  5.1,  1.9],\n",
        "        [ 6.8,  3.2,  5.9,  2.3],\n",
        "        [ 6.7,  3.3,  5.7,  2.5],\n",
        "        [ 6.7,  3. ,  5.2,  2.3],\n",
        "        [ 6.3,  2.5,  5. ,  1.9],\n",
        "        [ 6.5,  3. ,  5.2,  2. ],\n",
        "        [ 6.2,  3.4,  5.4,  2.3],\n",
        "        [ 5.9,  3. ,  5.1,  1.8]]),\n",
        " 'feature_names': ['sepal length (cm)',\n",
        "  'sepal width (cm)',\n",
        "  'petal length (cm)',\n",
        "  'petal width (cm)'],\n",
        " 'target': array([0, 0, 0, 0, 0, 0, 0, 0, 0, 0, 0, 0, 0, 0, 0, 0, 0, 0, 0, 0, 0, 0, 0,\n",
        "        0, 0, 0, 0, 0, 0, 0, 0, 0, 0, 0, 0, 0, 0, 0, 0, 0, 0, 0, 0, 0, 0, 0,\n",
        "        0, 0, 0, 0, 1, 1, 1, 1, 1, 1, 1, 1, 1, 1, 1, 1, 1, 1, 1, 1, 1, 1, 1,\n",
        "        1, 1, 1, 1, 1, 1, 1, 1, 1, 1, 1, 1, 1, 1, 1, 1, 1, 1, 1, 1, 1, 1, 1,\n",
        "        1, 1, 1, 1, 1, 1, 1, 1, 2, 2, 2, 2, 2, 2, 2, 2, 2, 2, 2, 2, 2, 2, 2,\n",
        "        2, 2, 2, 2, 2, 2, 2, 2, 2, 2, 2, 2, 2, 2, 2, 2, 2, 2, 2, 2, 2, 2, 2,\n",
        "        2, 2, 2, 2, 2, 2, 2, 2, 2, 2, 2, 2]),\n",
        " 'target_names': array(['setosa', 'versicolor', 'virginica'], \n",
        "       dtype='|S10')}"
       ]
      }
     ],
     "prompt_number": 28
    },
    {
     "cell_type": "markdown",
     "metadata": {},
     "source": [
      "# Simple Linear Regression"
     ]
    },
    {
     "cell_type": "code",
     "collapsed": false,
     "input": [
      "# let's play with the Boston housing prices dataset\n",
      "from sklearn.datasets import load_boston\n",
      "\n",
      "boston_raw = load_boston()\n",
      "boston_raw['feature_names']"
     ],
     "language": "python",
     "metadata": {},
     "outputs": [
      {
       "metadata": {},
       "output_type": "pyout",
       "prompt_number": 218,
       "text": [
        "array(['CRIM', 'ZN', 'INDUS', 'CHAS', 'NOX', 'RM', 'AGE', 'DIS', 'RAD',\n",
        "       'TAX', 'PTRATIO', 'B', 'LSTAT'], \n",
        "      dtype='|S7')"
       ]
      }
     ],
     "prompt_number": 218
    },
    {
     "cell_type": "code",
     "collapsed": false,
     "input": [
      "# load everything into pandas for easy manipulation\n",
      "import pandas as pd\n",
      "\n",
      "boston = pd.DataFrame(boston_raw['data'], columns=boston_raw['feature_names'])\n",
      "boston['MEDV'] = boston_raw['target']  # add an extra column with target info\n",
      "boston.head(5)"
     ],
     "language": "python",
     "metadata": {},
     "outputs": [
      {
       "html": [
        "<div style=\"max-height:1000px;max-width:1500px;overflow:auto;\">\n",
        "<table border=\"1\" class=\"dataframe\">\n",
        "  <thead>\n",
        "    <tr style=\"text-align: right;\">\n",
        "      <th></th>\n",
        "      <th>CRIM</th>\n",
        "      <th>ZN</th>\n",
        "      <th>INDUS</th>\n",
        "      <th>CHAS</th>\n",
        "      <th>NOX</th>\n",
        "      <th>RM</th>\n",
        "      <th>AGE</th>\n",
        "      <th>DIS</th>\n",
        "      <th>RAD</th>\n",
        "      <th>TAX</th>\n",
        "      <th>PTRATIO</th>\n",
        "      <th>B</th>\n",
        "      <th>LSTAT</th>\n",
        "      <th>MEDV</th>\n",
        "    </tr>\n",
        "  </thead>\n",
        "  <tbody>\n",
        "    <tr>\n",
        "      <th>0</th>\n",
        "      <td> 0.00632</td>\n",
        "      <td> 18</td>\n",
        "      <td> 2.31</td>\n",
        "      <td> 0</td>\n",
        "      <td> 0.538</td>\n",
        "      <td> 6.575</td>\n",
        "      <td> 65.2</td>\n",
        "      <td> 4.0900</td>\n",
        "      <td> 1</td>\n",
        "      <td> 296</td>\n",
        "      <td> 15.3</td>\n",
        "      <td> 396.90</td>\n",
        "      <td> 4.98</td>\n",
        "      <td> 24.0</td>\n",
        "    </tr>\n",
        "    <tr>\n",
        "      <th>1</th>\n",
        "      <td> 0.02731</td>\n",
        "      <td>  0</td>\n",
        "      <td> 7.07</td>\n",
        "      <td> 0</td>\n",
        "      <td> 0.469</td>\n",
        "      <td> 6.421</td>\n",
        "      <td> 78.9</td>\n",
        "      <td> 4.9671</td>\n",
        "      <td> 2</td>\n",
        "      <td> 242</td>\n",
        "      <td> 17.8</td>\n",
        "      <td> 396.90</td>\n",
        "      <td> 9.14</td>\n",
        "      <td> 21.6</td>\n",
        "    </tr>\n",
        "    <tr>\n",
        "      <th>2</th>\n",
        "      <td> 0.02729</td>\n",
        "      <td>  0</td>\n",
        "      <td> 7.07</td>\n",
        "      <td> 0</td>\n",
        "      <td> 0.469</td>\n",
        "      <td> 7.185</td>\n",
        "      <td> 61.1</td>\n",
        "      <td> 4.9671</td>\n",
        "      <td> 2</td>\n",
        "      <td> 242</td>\n",
        "      <td> 17.8</td>\n",
        "      <td> 392.83</td>\n",
        "      <td> 4.03</td>\n",
        "      <td> 34.7</td>\n",
        "    </tr>\n",
        "    <tr>\n",
        "      <th>3</th>\n",
        "      <td> 0.03237</td>\n",
        "      <td>  0</td>\n",
        "      <td> 2.18</td>\n",
        "      <td> 0</td>\n",
        "      <td> 0.458</td>\n",
        "      <td> 6.998</td>\n",
        "      <td> 45.8</td>\n",
        "      <td> 6.0622</td>\n",
        "      <td> 3</td>\n",
        "      <td> 222</td>\n",
        "      <td> 18.7</td>\n",
        "      <td> 394.63</td>\n",
        "      <td> 2.94</td>\n",
        "      <td> 33.4</td>\n",
        "    </tr>\n",
        "    <tr>\n",
        "      <th>4</th>\n",
        "      <td> 0.06905</td>\n",
        "      <td>  0</td>\n",
        "      <td> 2.18</td>\n",
        "      <td> 0</td>\n",
        "      <td> 0.458</td>\n",
        "      <td> 7.147</td>\n",
        "      <td> 54.2</td>\n",
        "      <td> 6.0622</td>\n",
        "      <td> 3</td>\n",
        "      <td> 222</td>\n",
        "      <td> 18.7</td>\n",
        "      <td> 396.90</td>\n",
        "      <td> 5.33</td>\n",
        "      <td> 36.2</td>\n",
        "    </tr>\n",
        "  </tbody>\n",
        "</table>\n",
        "</div>"
       ],
       "metadata": {},
       "output_type": "pyout",
       "prompt_number": 219,
       "text": [
        "      CRIM  ZN  INDUS  CHAS    NOX     RM   AGE     DIS  RAD  TAX  PTRATIO  \\\n",
        "0  0.00632  18   2.31     0  0.538  6.575  65.2  4.0900    1  296     15.3   \n",
        "1  0.02731   0   7.07     0  0.469  6.421  78.9  4.9671    2  242     17.8   \n",
        "2  0.02729   0   7.07     0  0.469  7.185  61.1  4.9671    2  242     17.8   \n",
        "3  0.03237   0   2.18     0  0.458  6.998  45.8  6.0622    3  222     18.7   \n",
        "4  0.06905   0   2.18     0  0.458  7.147  54.2  6.0622    3  222     18.7   \n",
        "\n",
        "        B  LSTAT  MEDV  \n",
        "0  396.90   4.98  24.0  \n",
        "1  396.90   9.14  21.6  \n",
        "2  392.83   4.03  34.7  \n",
        "3  394.63   2.94  33.4  \n",
        "4  396.90   5.33  36.2  "
       ]
      }
     ],
     "prompt_number": 219
    },
    {
     "cell_type": "code",
     "collapsed": false,
     "input": [
      "# technicality:  sklearn expects n x 1 arrays instead of length-n vectors.  This seems annoying,\n",
      "# but makes sense because we can also pass n x m arrays for multivariate regression\n",
      "import numpy as np\n",
      "\n",
      "lstat = np.expand_dims(boston['LSTAT'].values, axis=1)\n",
      "medv = np.expand_dims(boston['MEDV'].values, axis=1)"
     ],
     "language": "python",
     "metadata": {},
     "outputs": [],
     "prompt_number": 243
    },
    {
     "cell_type": "code",
     "collapsed": false,
     "input": [
      "# start with a simple linear regression predicting MEDV from the predictor LSTAT\n",
      "from sklearn.linear_model import LinearRegression\n",
      "\n",
      "lm = LinearRegression()\n",
      "lm.fit(lstat, medv)"
     ],
     "language": "python",
     "metadata": {},
     "outputs": [
      {
       "metadata": {},
       "output_type": "pyout",
       "prompt_number": 244,
       "text": [
        "LinearRegression(copy_X=True, fit_intercept=True, normalize=False)"
       ]
      }
     ],
     "prompt_number": 244
    },
    {
     "cell_type": "code",
     "collapsed": false,
     "input": [
      "lm.coef_"
     ],
     "language": "python",
     "metadata": {},
     "outputs": [
      {
       "metadata": {},
       "output_type": "pyout",
       "prompt_number": 245,
       "text": [
        "array([[-0.95004935]])"
       ]
      }
     ],
     "prompt_number": 245
    },
    {
     "cell_type": "code",
     "collapsed": false,
     "input": [
      "lm.intercept_"
     ],
     "language": "python",
     "metadata": {},
     "outputs": [
      {
       "metadata": {},
       "output_type": "pyout",
       "prompt_number": 246,
       "text": [
        "array([ 34.55384088])"
       ]
      }
     ],
     "prompt_number": 246
    },
    {
     "cell_type": "code",
     "collapsed": false,
     "input": [
      "# let's plot the regression\n",
      "import numpy as np\n",
      "import matplotlib.pyplot as plt\n",
      "%matplotlib inline\n",
      "\n",
      "\n",
      "fig = plt.figure(1)\n",
      "\n",
      "ax = fig.add_axes([0.0, 0.0, 1.0, 1.0], frameon=True)\n",
      "\n",
      "# first plot the regression line between two endpoints\n",
      "X = np.array([lstat.min(), lstat.max()])\n",
      "ax.plot(X, X*lm.coef_[0] + lm.intercept_[0], '-')\n",
      "\n",
      "# now plot the data\n",
      "ax.plot(lstat, medv, 'o')\n",
      "\n",
      "ax.set_title(\"Simple Linear Regression of MEDV on LSTAT\")\n",
      "ax.set_xlabel(\"LSTAT\")\n",
      "ax.set_ylabel(\"MEDV\")\n",
      "\n",
      "plt.show()"
     ],
     "language": "python",
     "metadata": {},
     "outputs": [
      {
       "metadata": {},
       "output_type": "display_data",
       "png": "[encoded data removed]",
       "text": [
        "<matplotlib.figure.Figure at 0x2b0daf798250>"
       ]
      }
     ],
     "prompt_number": 247
    },
    {
     "cell_type": "code",
     "collapsed": false,
     "input": [
      "# Let's look at the residuals\n",
      "fig = plt.figure(1)\n",
      "\n",
      "ax = fig.add_axes([0.0, 0.0, 1.0, 1.0], frameon=True)\n",
      "\n",
      "# first graph a horizontal line\n",
      "X = np.array([lstat.min(), lstat.max()])\n",
      "ax.plot(X, [0,0], '-')\n",
      "\n",
      "ax.plot(lstat, medv - lm.predict(lstat), 'o')\n",
      "\n",
      "ax.set_title(\"Residuals\")\n",
      "ax.set_xlabel(\"LSTAT\")\n",
      "ax.set_ylabel(\"MEDV - Predicted(MEDV)\")\n",
      "\n",
      "plt.show()"
     ],
     "language": "python",
     "metadata": {},
     "outputs": [
      {
       "metadata": {},
       "output_type": "display_data",
       "png": "[encoded data removed]",
       "text": [
        "<matplotlib.figure.Figure at 0x2b0dafbb2990>"
       ]
      }
     ],
     "prompt_number": 225
    },
    {
     "cell_type": "markdown",
     "metadata": {},
     "source": [
      "If we want more information (e.g. studentized residuals, leverage) then we need to code up our own functions.  Sklearn\n",
      "is oriented toward machine learning, not inferential statistics."
     ]
    },
    {
     "cell_type": "code",
     "collapsed": false,
     "input": [
      "# If we want inferential quantities (p-values, F, etc) then we should use the ``statsmodels`` library instead\n",
      "import statsmodels.api as sm\n",
      "from statsmodels.formula.api import ols\n",
      "\n",
      "# Ordinary Least Squares\n",
      "# We are using the \"formula\" API, which mimics R's \"y ~ x1 + x2 + ...\" notation.  Notice how statsmodels plays well with pandas  \n",
      "results = ols(\"MEDV ~ LSTAT\", data=boston).fit()\n",
      "results.summary()"
     ],
     "language": "python",
     "metadata": {},
     "outputs": [
      {
       "html": [
        "<table class=\"simpletable\">\n",
        "<caption>OLS Regression Results</caption>\n",
        "<tr>\n",
        "  <th>Dep. Variable:</th>          <td>MEDV</td>       <th>  R-squared:         </th> <td>   0.544</td>\n",
        "</tr>\n",
        "<tr>\n",
        "  <th>Model:</th>                   <td>OLS</td>       <th>  Adj. R-squared:    </th> <td>   0.543</td>\n",
        "</tr>\n",
        "<tr>\n",
        "  <th>Method:</th>             <td>Least Squares</td>  <th>  F-statistic:       </th> <td>   601.6</td>\n",
        "</tr>\n",
        "<tr>\n",
        "  <th>Date:</th>             <td>Mon, 13 Apr 2015</td> <th>  Prob (F-statistic):</th> <td>5.08e-88</td>\n",
        "</tr>\n",
        "<tr>\n",
        "  <th>Time:</th>                 <td>20:28:43</td>     <th>  Log-Likelihood:    </th> <td> -1641.5</td>\n",
        "</tr>\n",
        "<tr>\n",
        "  <th>No. Observations:</th>      <td>   506</td>      <th>  AIC:               </th> <td>   3287.</td>\n",
        "</tr>\n",
        "<tr>\n",
        "  <th>Df Residuals:</th>          <td>   504</td>      <th>  BIC:               </th> <td>   3295.</td>\n",
        "</tr>\n",
        "<tr>\n",
        "  <th>Df Model:</th>              <td>     1</td>      <th>                     </th>     <td> </td>   \n",
        "</tr>\n",
        "</table>\n",
        "<table class=\"simpletable\">\n",
        "<tr>\n",
        "      <td></td>         <th>coef</th>     <th>std err</th>      <th>t</th>      <th>P>|t|</th> <th>[95.0% Conf. Int.]</th> \n",
        "</tr>\n",
        "<tr>\n",
        "  <th>Intercept</th> <td>   34.5538</td> <td>    0.563</td> <td>   61.415</td> <td> 0.000</td> <td>   33.448    35.659</td>\n",
        "</tr>\n",
        "<tr>\n",
        "  <th>LSTAT</th>     <td>   -0.9500</td> <td>    0.039</td> <td>  -24.528</td> <td> 0.000</td> <td>   -1.026    -0.874</td>\n",
        "</tr>\n",
        "</table>\n",
        "<table class=\"simpletable\">\n",
        "<tr>\n",
        "  <th>Omnibus:</th>       <td>137.043</td> <th>  Durbin-Watson:     </th> <td>   0.892</td>\n",
        "</tr>\n",
        "<tr>\n",
        "  <th>Prob(Omnibus):</th> <td> 0.000</td>  <th>  Jarque-Bera (JB):  </th> <td> 291.373</td>\n",
        "</tr>\n",
        "<tr>\n",
        "  <th>Skew:</th>          <td> 1.453</td>  <th>  Prob(JB):          </th> <td>5.36e-64</td>\n",
        "</tr>\n",
        "<tr>\n",
        "  <th>Kurtosis:</th>      <td> 5.319</td>  <th>  Cond. No.          </th> <td>    29.7</td>\n",
        "</tr>\n",
        "</table>"
       ],
       "metadata": {},
       "output_type": "pyout",
       "prompt_number": 226,
       "text": [
        "<class 'statsmodels.iolib.summary.Summary'>\n",
        "\"\"\"\n",
        "                            OLS Regression Results                            \n",
        "==============================================================================\n",
        "Dep. Variable:                   MEDV   R-squared:                       0.544\n",
        "Model:                            OLS   Adj. R-squared:                  0.543\n",
        "Method:                 Least Squares   F-statistic:                     601.6\n",
        "Date:                Mon, 13 Apr 2015   Prob (F-statistic):           5.08e-88\n",
        "Time:                        20:28:43   Log-Likelihood:                -1641.5\n",
        "No. Observations:                 506   AIC:                             3287.\n",
        "Df Residuals:                     504   BIC:                             3295.\n",
        "Df Model:                           1                                         \n",
        "==============================================================================\n",
        "                 coef    std err          t      P>|t|      [95.0% Conf. Int.]\n",
        "------------------------------------------------------------------------------\n",
        "Intercept     34.5538      0.563     61.415      0.000        33.448    35.659\n",
        "LSTAT         -0.9500      0.039    -24.528      0.000        -1.026    -0.874\n",
        "==============================================================================\n",
        "Omnibus:                      137.043   Durbin-Watson:                   0.892\n",
        "Prob(Omnibus):                  0.000   Jarque-Bera (JB):              291.373\n",
        "Skew:                           1.453   Prob(JB):                     5.36e-64\n",
        "Kurtosis:                       5.319   Cond. No.                         29.7\n",
        "==============================================================================\n",
        "\"\"\""
       ]
      }
     ],
     "prompt_number": 226
    },
    {
     "cell_type": "code",
     "collapsed": false,
     "input": [
      "# the result object has many stats that might be interesting\n",
      "dir(results)"
     ],
     "language": "python",
     "metadata": {},
     "outputs": [
      {
       "metadata": {},
       "output_type": "pyout",
       "prompt_number": 227,
       "text": [
        "['HC0_se',\n",
        " 'HC1_se',\n",
        " 'HC2_se',\n",
        " 'HC3_se',\n",
        " '_HC0_se',\n",
        " '_HC1_se',\n",
        " '_HC2_se',\n",
        " '_HC3_se',\n",
        " '_HCCM',\n",
        " '__class__',\n",
        " '__delattr__',\n",
        " '__dict__',\n",
        " '__doc__',\n",
        " '__format__',\n",
        " '__getattribute__',\n",
        " '__hash__',\n",
        " '__init__',\n",
        " '__module__',\n",
        " '__new__',\n",
        " '__reduce__',\n",
        " '__reduce_ex__',\n",
        " '__repr__',\n",
        " '__setattr__',\n",
        " '__sizeof__',\n",
        " '__str__',\n",
        " '__subclasshook__',\n",
        " '__weakref__',\n",
        " '_cache',\n",
        " '_data_attr',\n",
        " 'aic',\n",
        " 'bic',\n",
        " 'bse',\n",
        " 'centered_tss',\n",
        " 'compare_f_test',\n",
        " 'compare_lr_test',\n",
        " 'conf_int',\n",
        " 'conf_int_el',\n",
        " 'cov_params',\n",
        " 'df_model',\n",
        " 'df_resid',\n",
        " 'diagn',\n",
        " 'el_test',\n",
        " 'ess',\n",
        " 'f_pvalue',\n",
        " 'f_test',\n",
        " 'fittedvalues',\n",
        " 'fvalue',\n",
        " 'get_influence',\n",
        " 'initialize',\n",
        " 'k_constant',\n",
        " 'llf',\n",
        " 'load',\n",
        " 'model',\n",
        " 'mse_model',\n",
        " 'mse_resid',\n",
        " 'mse_total',\n",
        " 'nobs',\n",
        " 'norm_resid',\n",
        " 'normalized_cov_params',\n",
        " 'outlier_test',\n",
        " 'params',\n",
        " 'predict',\n",
        " 'pvalues',\n",
        " 'remove_data',\n",
        " 'resid',\n",
        " 'rsquared',\n",
        " 'rsquared_adj',\n",
        " 'save',\n",
        " 'scale',\n",
        " 'ssr',\n",
        " 'summary',\n",
        " 'summary2',\n",
        " 't_test',\n",
        " 'tvalues',\n",
        " 'uncentered_tss',\n",
        " 'wresid']"
       ]
      }
     ],
     "prompt_number": 227
    },
    {
     "cell_type": "code",
     "collapsed": false,
     "input": [
      "# for example, here's the rsquared value\n",
      "results.rsquared"
     ],
     "language": "python",
     "metadata": {},
     "outputs": [
      {
       "metadata": {},
       "output_type": "pyout",
       "prompt_number": 228,
       "text": [
        "0.54414629758648003"
       ]
      }
     ],
     "prompt_number": 228
    },
    {
     "cell_type": "code",
     "collapsed": false,
     "input": [
      "# We can predict MEDV for new values of LSTAT\n",
      "new_lstat_vals = pd.DataFrame([5, 10, 15], columns=['LSTAT'])\n",
      "\n",
      "results.predict(new_lstat_vals)"
     ],
     "language": "python",
     "metadata": {},
     "outputs": [
      {
       "metadata": {},
       "output_type": "pyout",
       "prompt_number": 229,
       "text": [
        "array([ 29.80359411,  25.05334734,  20.30310057])"
       ]
      }
     ],
     "prompt_number": 229
    },
    {
     "cell_type": "markdown",
     "metadata": {},
     "source": [
      "Does anybody know how to get prediction and confidence intervals?"
     ]
    },
    {
     "cell_type": "code",
     "collapsed": false,
     "input": [
      "# We can plot the regression to see how it looks\n",
      "import matplotlib.pyplot as plt\n",
      "%matplotlib inline\n",
      "\n",
      "# statsmodels provides some convenience wrappers around matplotlib\n",
      "from statsmodels.graphics.regressionplots import plot_fit\n",
      "\n",
      "fig = plot_fit(results, 1)\n",
      "\n",
      "# there is only 1 axes, so retrieve it for further customization\n",
      "ax = fig.axes[0]  \n",
      "ax.set_title(\"MEDV vs LSTAT\")\n",
      "ax.set_xlabel(\"LSTAT\")\n",
      "ax.set_ylabel(\"MEDV\")\n",
      "\n",
      "plt.show()"
     ],
     "language": "python",
     "metadata": {},
     "outputs": [
      {
       "metadata": {},
       "output_type": "display_data",
       "png": "[encoded data removed]",
       "text": [
        "<matplotlib.figure.Figure at 0x2b0db26f4dd0>"
       ]
      }
     ],
     "prompt_number": 230
    },
    {
     "cell_type": "code",
     "collapsed": false,
     "input": [
      "# Notice the confidence intervals (black lines) in the figure above\n",
      "# We can get these confidence intervals as dataframes, too\n",
      "from statsmodels.sandbox.regression.predstd import wls_prediction_std\n",
      "\n",
      "prstd, iv_l, iv_u = wls_prediction_std(results)\n",
      "\n",
      "# let's show the upper bounds for fun\n",
      "iv_u"
     ],
     "language": "python",
     "metadata": {},
     "outputs": [
      {
       "metadata": {},
       "output_type": "pyout",
       "prompt_number": 231,
       "text": [
        "0     42.060587\n",
        "1     38.097367\n",
        "2     42.966796\n",
        "3     44.007076\n",
        "4     41.726828\n",
        "5     41.841253\n",
        "6     34.968793\n",
        "7     28.594444\n",
        "8     18.413418\n",
        "9     30.536734\n",
        "10    27.363777\n",
        "11    34.170830\n",
        "12    31.854833\n",
        "13    38.935058\n",
        "14    37.031745\n",
        "...\n",
        "491    29.617451\n",
        "492    34.094851\n",
        "493    35.367900\n",
        "494    33.866932\n",
        "495    30.062821\n",
        "496    26.710901\n",
        "497    33.382695\n",
        "498    34.503274\n",
        "499    32.433568\n",
        "500    33.164354\n",
        "501    37.593025\n",
        "502    38.154470\n",
        "503    41.431261\n",
        "504    40.630598\n",
        "505    39.296901\n",
        "Length: 506, dtype: float64"
       ]
      }
     ],
     "prompt_number": 231
    },
    {
     "cell_type": "code",
     "collapsed": false,
     "input": [
      "# Let's look at the residuals\n",
      "fig = plt.figure(1)\n",
      "\n",
      "ax = fig.add_axes([0.0, 0.0, 1.0, 1.0], frameon=True)\n",
      "\n",
      "# first plot a horizontal line between two endpoints\n",
      "X = np.array([boston['LSTAT'].min(), boston['LSTAT'].max()])\n",
      "ax.plot(X, [0,0], '-')\n",
      "\n",
      "# now plot the residuals\n",
      "ax.plot(lstat, boston['MEDV'].values - results.predict(boston[['LSTAT']]), 'o')\n",
      "\n",
      "ax.set_title(\"Residuals\")\n",
      "ax.set_xlabel(\"LSTAT\")\n",
      "ax.set_ylabel(\"MEDV - Predicted(MEDV)\")\n",
      "\n",
      "plt.show()"
     ],
     "language": "python",
     "metadata": {},
     "outputs": [
      {
       "metadata": {},
       "output_type": "display_data",
       "png": "[encoded data removed]",
       "text": [
        "<matplotlib.figure.Figure at 0x2b0dae472410>"
       ]
      }
     ],
     "prompt_number": 232
    },
    {
     "cell_type": "code",
     "collapsed": false,
     "input": [
      "# plot leverage\n",
      "from statsmodels.graphics.regressionplots import plot_leverage_resid2\n",
      "\n",
      "fig = plot_leverage_resid2(results, 1)\n",
      "\n",
      "# there is only 1 axes, so retrieve it for further customization\n",
      "ax = fig.axes[0]  \n",
      "ax.set_title(\"Leverage vs. Normalized Residuals**2\")\n",
      "ax.set_xlabel(\"Normalized Residuals**2\")\n",
      "ax.set_ylabel(\"Leverage\")\n",
      "\n",
      "plt.show()"
     ],
     "language": "python",
     "metadata": {},
     "outputs": [
      {
       "metadata": {},
       "output_type": "display_data",
       "png": "[encoded data removed]",
       "text": [
        "<matplotlib.figure.Figure at 0x2b0dafa99950>"
       ]
      }
     ],
     "prompt_number": 233
    },
    {
     "cell_type": "code",
     "collapsed": false,
     "input": [
      "# plot studentized residuals\n",
      "from statsmodels.graphics.regressionplots import influence_plot\n",
      "\n",
      "fig = influence_plot(results, 1)\n",
      "\n",
      "# there is only 1 axes, so retrieve it for further customization\n",
      "ax = fig.axes[0]  \n",
      "ax.set_title(\"Influence\")\n",
      "ax.set_xlabel(\"H Leverage\")\n",
      "ax.set_ylabel(\"Studentized Residuals\")\n",
      "\n",
      "plt.show()"
     ],
     "language": "python",
     "metadata": {},
     "outputs": [
      {
       "metadata": {},
       "output_type": "display_data",
       "png": "[encoded data removed]",
       "text": [
        "<matplotlib.figure.Figure at 0x2b0daf771650>"
       ]
      }
     ],
     "prompt_number": 234
    },
    {
     "cell_type": "markdown",
     "metadata": {},
     "source": [
      "# Multiple Linear Regression"
     ]
    },
    {
     "cell_type": "code",
     "collapsed": false,
     "input": [
      "# multiple linear regression in sklearn is the same.  Just stack the predictor vectors into columns\n",
      "lstat_age = np.column_stack((boston['LSTAT'].values, boston['AGE'].values))\n",
      "\n",
      "lm.fit(lstat_age, medv)"
     ],
     "language": "python",
     "metadata": {},
     "outputs": [
      {
       "metadata": {},
       "output_type": "pyout",
       "prompt_number": 253,
       "text": [
        "LinearRegression(copy_X=True, fit_intercept=True, normalize=False)"
       ]
      }
     ],
     "prompt_number": 253
    },
    {
     "cell_type": "code",
     "collapsed": false,
     "input": [
      "lm.coef_"
     ],
     "language": "python",
     "metadata": {},
     "outputs": [
      {
       "metadata": {},
       "output_type": "pyout",
       "prompt_number": 254,
       "text": [
        "array([[-1.03206856,  0.03454434]])"
       ]
      }
     ],
     "prompt_number": 254
    },
    {
     "cell_type": "code",
     "collapsed": false,
     "input": [
      "lm.intercept_"
     ],
     "language": "python",
     "metadata": {},
     "outputs": [
      {
       "metadata": {},
       "output_type": "pyout",
       "prompt_number": 255,
       "text": [
        "array([ 33.22276053])"
       ]
      }
     ],
     "prompt_number": 255
    },
    {
     "cell_type": "code",
     "collapsed": false,
     "input": [
      "# We can regress on ALL predictors in the boston dataset like this\n",
      "# (remember to drop the MEDV column because that's the y-variable)\n",
      "lm.fit(boston.drop('MEDV', axis=1).as_matrix(), medv)"
     ],
     "language": "python",
     "metadata": {},
     "outputs": [
      {
       "metadata": {},
       "output_type": "pyout",
       "prompt_number": 268,
       "text": [
        "LinearRegression(copy_X=True, fit_intercept=True, normalize=False)"
       ]
      }
     ],
     "prompt_number": 268
    },
    {
     "cell_type": "code",
     "collapsed": false,
     "input": [
      "lm.coef_"
     ],
     "language": "python",
     "metadata": {},
     "outputs": [
      {
       "metadata": {},
       "output_type": "pyout",
       "prompt_number": 270,
       "text": [
        "array([[ -1.07170557e-01,   4.63952195e-02,   2.08602395e-02,\n",
        "          2.68856140e+00,  -1.77957587e+01,   3.80475246e+00,\n",
        "          7.51061703e-04,  -1.47575880e+00,   3.05655038e-01,\n",
        "         -1.23293463e-02,  -9.53463555e-01,   9.39251272e-03,\n",
        "         -5.25466633e-01]])"
       ]
      }
     ],
     "prompt_number": 270
    },
    {
     "cell_type": "code",
     "collapsed": false,
     "input": [
      "lm.intercept_"
     ],
     "language": "python",
     "metadata": {},
     "outputs": [
      {
       "metadata": {},
       "output_type": "pyout",
       "prompt_number": 271,
       "text": [
        "array([ 36.49110328])"
       ]
      }
     ],
     "prompt_number": 271
    },
    {
     "cell_type": "code",
     "collapsed": false,
     "input": [
      "# the coefficients are a bit confusing.  Let's put it into a pandas Series to make labeling more clear\n",
      "coef_all_vars = pd.Series(lm.coef_[0], index=boston_raw['feature_names'])\n",
      "coef_all_vars"
     ],
     "language": "python",
     "metadata": {},
     "outputs": [
      {
       "metadata": {},
       "output_type": "pyout",
       "prompt_number": 281,
       "text": [
        "CRIM       -0.107171\n",
        "ZN          0.046395\n",
        "INDUS       0.020860\n",
        "CHAS        2.688561\n",
        "NOX       -17.795759\n",
        "RM          3.804752\n",
        "AGE         0.000751\n",
        "DIS        -1.475759\n",
        "RAD         0.305655\n",
        "TAX        -0.012329\n",
        "PTRATIO    -0.953464\n",
        "B           0.009393\n",
        "LSTAT      -0.525467\n",
        "dtype: float64"
       ]
      }
     ],
     "prompt_number": 281
    },
    {
     "cell_type": "code",
     "collapsed": false,
     "input": [
      "# Now let's redo the multiple regression in statsmodels.  Again, the inferential analysis is better\n",
      "\n",
      "# Recall that statsmodels provides the R-like syntax \"MEDV ~ LSTAT\"\n",
      "# This is provided by a library named \"patsy\"\n",
      "\n",
      "# Since we have many predictors now (not just LSTAT), let's build the patsy string programmatically\n",
      "patsy_str = ' + '.join(boston_raw['feature_names'])\n",
      "patsy_str\n",
      "\n",
      "# NOTE: patsy always assumes that you want an intercept, so it internally adds a \"+1\" to your string automatically.\n",
      "# If you explicitly don't want an intercept then you need to append \"-1\" to your string to counteract it."
     ],
     "language": "python",
     "metadata": {},
     "outputs": [
      {
       "metadata": {},
       "output_type": "pyout",
       "prompt_number": 353,
       "text": [
        "'CRIM + ZN + INDUS + CHAS + NOX + RM + AGE + DIS + RAD + TAX + PTRATIO + B + LSTAT'"
       ]
      }
     ],
     "prompt_number": 353
    },
    {
     "cell_type": "code",
     "collapsed": false,
     "input": [
      "results = ols(\"MEDV ~ \" + patsy_str, data=boston).fit()\n",
      "results.summary()"
     ],
     "language": "python",
     "metadata": {},
     "outputs": [
      {
       "html": [
        "<table class=\"simpletable\">\n",
        "<caption>OLS Regression Results</caption>\n",
        "<tr>\n",
        "  <th>Dep. Variable:</th>          <td>MEDV</td>       <th>  R-squared:         </th> <td>   0.741</td> \n",
        "</tr>\n",
        "<tr>\n",
        "  <th>Model:</th>                   <td>OLS</td>       <th>  Adj. R-squared:    </th> <td>   0.734</td> \n",
        "</tr>\n",
        "<tr>\n",
        "  <th>Method:</th>             <td>Least Squares</td>  <th>  F-statistic:       </th> <td>   108.1</td> \n",
        "</tr>\n",
        "<tr>\n",
        "  <th>Date:</th>             <td>Tue, 14 Apr 2015</td> <th>  Prob (F-statistic):</th> <td>6.95e-135</td>\n",
        "</tr>\n",
        "<tr>\n",
        "  <th>Time:</th>                 <td>00:15:34</td>     <th>  Log-Likelihood:    </th> <td> -1498.8</td> \n",
        "</tr>\n",
        "<tr>\n",
        "  <th>No. Observations:</th>      <td>   506</td>      <th>  AIC:               </th> <td>   3026.</td> \n",
        "</tr>\n",
        "<tr>\n",
        "  <th>Df Residuals:</th>          <td>   492</td>      <th>  BIC:               </th> <td>   3085.</td> \n",
        "</tr>\n",
        "<tr>\n",
        "  <th>Df Model:</th>              <td>    13</td>      <th>                     </th>     <td> </td>    \n",
        "</tr>\n",
        "</table>\n",
        "<table class=\"simpletable\">\n",
        "<tr>\n",
        "      <td></td>         <th>coef</th>     <th>std err</th>      <th>t</th>      <th>P>|t|</th> <th>[95.0% Conf. Int.]</th> \n",
        "</tr>\n",
        "<tr>\n",
        "  <th>Intercept</th> <td>   36.4911</td> <td>    5.104</td> <td>    7.149</td> <td> 0.000</td> <td>   26.462    46.520</td>\n",
        "</tr>\n",
        "<tr>\n",
        "  <th>CRIM</th>      <td>   -0.1072</td> <td>    0.033</td> <td>   -3.276</td> <td> 0.001</td> <td>   -0.171    -0.043</td>\n",
        "</tr>\n",
        "<tr>\n",
        "  <th>ZN</th>        <td>    0.0464</td> <td>    0.014</td> <td>    3.380</td> <td> 0.001</td> <td>    0.019     0.073</td>\n",
        "</tr>\n",
        "<tr>\n",
        "  <th>INDUS</th>     <td>    0.0209</td> <td>    0.061</td> <td>    0.339</td> <td> 0.735</td> <td>   -0.100     0.142</td>\n",
        "</tr>\n",
        "<tr>\n",
        "  <th>CHAS</th>      <td>    2.6886</td> <td>    0.862</td> <td>    3.120</td> <td> 0.002</td> <td>    0.996     4.381</td>\n",
        "</tr>\n",
        "<tr>\n",
        "  <th>NOX</th>       <td>  -17.7958</td> <td>    3.821</td> <td>   -4.658</td> <td> 0.000</td> <td>  -25.302   -10.289</td>\n",
        "</tr>\n",
        "<tr>\n",
        "  <th>RM</th>        <td>    3.8048</td> <td>    0.418</td> <td>    9.102</td> <td> 0.000</td> <td>    2.983     4.626</td>\n",
        "</tr>\n",
        "<tr>\n",
        "  <th>AGE</th>       <td>    0.0008</td> <td>    0.013</td> <td>    0.057</td> <td> 0.955</td> <td>   -0.025     0.027</td>\n",
        "</tr>\n",
        "<tr>\n",
        "  <th>DIS</th>       <td>   -1.4758</td> <td>    0.199</td> <td>   -7.398</td> <td> 0.000</td> <td>   -1.868    -1.084</td>\n",
        "</tr>\n",
        "<tr>\n",
        "  <th>RAD</th>       <td>    0.3057</td> <td>    0.066</td> <td>    4.608</td> <td> 0.000</td> <td>    0.175     0.436</td>\n",
        "</tr>\n",
        "<tr>\n",
        "  <th>TAX</th>       <td>   -0.0123</td> <td>    0.004</td> <td>   -3.278</td> <td> 0.001</td> <td>   -0.020    -0.005</td>\n",
        "</tr>\n",
        "<tr>\n",
        "  <th>PTRATIO</th>   <td>   -0.9535</td> <td>    0.131</td> <td>   -7.287</td> <td> 0.000</td> <td>   -1.211    -0.696</td>\n",
        "</tr>\n",
        "<tr>\n",
        "  <th>B</th>         <td>    0.0094</td> <td>    0.003</td> <td>    3.500</td> <td> 0.001</td> <td>    0.004     0.015</td>\n",
        "</tr>\n",
        "<tr>\n",
        "  <th>LSTAT</th>     <td>   -0.5255</td> <td>    0.051</td> <td>  -10.366</td> <td> 0.000</td> <td>   -0.625    -0.426</td>\n",
        "</tr>\n",
        "</table>\n",
        "<table class=\"simpletable\">\n",
        "<tr>\n",
        "  <th>Omnibus:</th>       <td>178.029</td> <th>  Durbin-Watson:     </th> <td>   1.078</td> \n",
        "</tr>\n",
        "<tr>\n",
        "  <th>Prob(Omnibus):</th> <td> 0.000</td>  <th>  Jarque-Bera (JB):  </th> <td> 782.015</td> \n",
        "</tr>\n",
        "<tr>\n",
        "  <th>Skew:</th>          <td> 1.521</td>  <th>  Prob(JB):          </th> <td>1.54e-170</td>\n",
        "</tr>\n",
        "<tr>\n",
        "  <th>Kurtosis:</th>      <td> 8.276</td>  <th>  Cond. No.          </th> <td>1.51e+04</td> \n",
        "</tr>\n",
        "</table>"
       ],
       "metadata": {},
       "output_type": "pyout",
       "prompt_number": 354,
       "text": [
        "<class 'statsmodels.iolib.summary.Summary'>\n",
        "\"\"\"\n",
        "                            OLS Regression Results                            \n",
        "==============================================================================\n",
        "Dep. Variable:                   MEDV   R-squared:                       0.741\n",
        "Model:                            OLS   Adj. R-squared:                  0.734\n",
        "Method:                 Least Squares   F-statistic:                     108.1\n",
        "Date:                Tue, 14 Apr 2015   Prob (F-statistic):          6.95e-135\n",
        "Time:                        00:15:34   Log-Likelihood:                -1498.8\n",
        "No. Observations:                 506   AIC:                             3026.\n",
        "Df Residuals:                     492   BIC:                             3085.\n",
        "Df Model:                          13                                         \n",
        "==============================================================================\n",
        "                 coef    std err          t      P>|t|      [95.0% Conf. Int.]\n",
        "------------------------------------------------------------------------------\n",
        "Intercept     36.4911      5.104      7.149      0.000        26.462    46.520\n",
        "CRIM          -0.1072      0.033     -3.276      0.001        -0.171    -0.043\n",
        "ZN             0.0464      0.014      3.380      0.001         0.019     0.073\n",
        "INDUS          0.0209      0.061      0.339      0.735        -0.100     0.142\n",
        "CHAS           2.6886      0.862      3.120      0.002         0.996     4.381\n",
        "NOX          -17.7958      3.821     -4.658      0.000       -25.302   -10.289\n",
        "RM             3.8048      0.418      9.102      0.000         2.983     4.626\n",
        "AGE            0.0008      0.013      0.057      0.955        -0.025     0.027\n",
        "DIS           -1.4758      0.199     -7.398      0.000        -1.868    -1.084\n",
        "RAD            0.3057      0.066      4.608      0.000         0.175     0.436\n",
        "TAX           -0.0123      0.004     -3.278      0.001        -0.020    -0.005\n",
        "PTRATIO       -0.9535      0.131     -7.287      0.000        -1.211    -0.696\n",
        "B              0.0094      0.003      3.500      0.001         0.004     0.015\n",
        "LSTAT         -0.5255      0.051    -10.366      0.000        -0.625    -0.426\n",
        "==============================================================================\n",
        "Omnibus:                      178.029   Durbin-Watson:                   1.078\n",
        "Prob(Omnibus):                  0.000   Jarque-Bera (JB):              782.015\n",
        "Skew:                           1.521   Prob(JB):                    1.54e-170\n",
        "Kurtosis:                       8.276   Cond. No.                     1.51e+04\n",
        "==============================================================================\n",
        "\n",
        "Warnings:\n",
        "[1] The condition number is large, 1.51e+04. This might indicate that there are\n",
        "strong multicollinearity or other numerical problems.\n",
        "\"\"\""
       ]
      }
     ],
     "prompt_number": 354
    },
    {
     "cell_type": "code",
     "collapsed": false,
     "input": [
      "# Some of the predictors might be multicollinear (redundant).  Let's look at the variance inflation factor (vif).\n",
      "# Be suspcious of anything > 5 \n",
      "from statsmodels.stats.outliers_influence import variance_inflation_factor\n",
      "\n",
      "# patsy can be used to create a design matrix from an R-like string\n",
      "from patsy import dmatrix\n",
      "\n",
      "design_matrix = np.asarray( dmatrix(patsy_str, data=boston) )\n",
      "num_predictors = design_matrix.shape[1]\n",
      "\n",
      "for pred_ix in xrange(1, num_predictors):  # skip the first column (constant/intercept column)\n",
      "    \n",
      "    print(\"%s: %f\" % (boston_raw['feature_names'][pred_ix-1], variance_inflation_factor(design_matrix, pred_ix)))"
     ],
     "language": "python",
     "metadata": {},
     "outputs": [
      {
       "output_type": "stream",
       "stream": "stdout",
       "text": [
        "CRIM: 1.773321\n",
        "ZN: 2.298641\n",
        "INDUS: 3.991194\n",
        "CHAS: 1.073943\n",
        "NOX: 4.395064\n",
        "RM: 1.934161\n",
        "AGE: 3.100860\n",
        "DIS: 3.956551\n",
        "RAD: 7.480539\n",
        "TAX: 9.008472\n",
        "PTRATIO: 1.799220\n",
        "B: 1.345832\n",
        "LSTAT: 2.938127\n"
       ]
      }
     ],
     "prompt_number": 355
    },
    {
     "cell_type": "code",
     "collapsed": false,
     "input": [
      "# In patsy, the \"-\" syntax can be used to remove a predictor\n",
      "# Let's remove \"AGE\" because it has a high p-value (hence seems unrelated to MEDV)\n",
      "results = ols(\"MEDV ~ \" + patsy_str + \"-AGE\", data=boston).fit()\n",
      "results.summary()"
     ],
     "language": "python",
     "metadata": {},
     "outputs": [
      {
       "html": [
        "<table class=\"simpletable\">\n",
        "<caption>OLS Regression Results</caption>\n",
        "<tr>\n",
        "  <th>Dep. Variable:</th>          <td>MEDV</td>       <th>  R-squared:         </th> <td>   0.741</td> \n",
        "</tr>\n",
        "<tr>\n",
        "  <th>Model:</th>                   <td>OLS</td>       <th>  Adj. R-squared:    </th> <td>   0.734</td> \n",
        "</tr>\n",
        "<tr>\n",
        "  <th>Method:</th>             <td>Least Squares</td>  <th>  F-statistic:       </th> <td>   117.3</td> \n",
        "</tr>\n",
        "<tr>\n",
        "  <th>Date:</th>             <td>Tue, 14 Apr 2015</td> <th>  Prob (F-statistic):</th> <td>6.28e-136</td>\n",
        "</tr>\n",
        "<tr>\n",
        "  <th>Time:</th>                 <td>00:22:23</td>     <th>  Log-Likelihood:    </th> <td> -1498.8</td> \n",
        "</tr>\n",
        "<tr>\n",
        "  <th>No. Observations:</th>      <td>   506</td>      <th>  AIC:               </th> <td>   3024.</td> \n",
        "</tr>\n",
        "<tr>\n",
        "  <th>Df Residuals:</th>          <td>   493</td>      <th>  BIC:               </th> <td>   3079.</td> \n",
        "</tr>\n",
        "<tr>\n",
        "  <th>Df Model:</th>              <td>    12</td>      <th>                     </th>     <td> </td>    \n",
        "</tr>\n",
        "</table>\n",
        "<table class=\"simpletable\">\n",
        "<tr>\n",
        "      <td></td>         <th>coef</th>     <th>std err</th>      <th>t</th>      <th>P>|t|</th> <th>[95.0% Conf. Int.]</th> \n",
        "</tr>\n",
        "<tr>\n",
        "  <th>Intercept</th> <td>   36.4666</td> <td>    5.081</td> <td>    7.177</td> <td> 0.000</td> <td>   26.483    46.450</td>\n",
        "</tr>\n",
        "<tr>\n",
        "  <th>CRIM</th>      <td>   -0.1072</td> <td>    0.033</td> <td>   -3.279</td> <td> 0.001</td> <td>   -0.171    -0.043</td>\n",
        "</tr>\n",
        "<tr>\n",
        "  <th>ZN</th>        <td>    0.0463</td> <td>    0.014</td> <td>    3.401</td> <td> 0.001</td> <td>    0.020     0.073</td>\n",
        "</tr>\n",
        "<tr>\n",
        "  <th>INDUS</th>     <td>    0.0209</td> <td>    0.061</td> <td>    0.340</td> <td> 0.734</td> <td>   -0.100     0.142</td>\n",
        "</tr>\n",
        "<tr>\n",
        "  <th>CHAS</th>      <td>    2.6911</td> <td>    0.860</td> <td>    3.130</td> <td> 0.002</td> <td>    1.002     4.380</td>\n",
        "</tr>\n",
        "<tr>\n",
        "  <th>NOX</th>       <td>  -17.7382</td> <td>    3.680</td> <td>   -4.820</td> <td> 0.000</td> <td>  -24.969   -10.508</td>\n",
        "</tr>\n",
        "<tr>\n",
        "  <th>RM</th>        <td>    3.8097</td> <td>    0.409</td> <td>    9.325</td> <td> 0.000</td> <td>    3.007     4.612</td>\n",
        "</tr>\n",
        "<tr>\n",
        "  <th>DIS</th>       <td>   -1.4791</td> <td>    0.191</td> <td>   -7.758</td> <td> 0.000</td> <td>   -1.854    -1.104</td>\n",
        "</tr>\n",
        "<tr>\n",
        "  <th>RAD</th>       <td>    0.3054</td> <td>    0.066</td> <td>    4.622</td> <td> 0.000</td> <td>    0.176     0.435</td>\n",
        "</tr>\n",
        "<tr>\n",
        "  <th>TAX</th>       <td>   -0.0123</td> <td>    0.004</td> <td>   -3.281</td> <td> 0.001</td> <td>   -0.020    -0.005</td>\n",
        "</tr>\n",
        "<tr>\n",
        "  <th>PTRATIO</th>   <td>   -0.9529</td> <td>    0.130</td> <td>   -7.313</td> <td> 0.000</td> <td>   -1.209    -0.697</td>\n",
        "</tr>\n",
        "<tr>\n",
        "  <th>B</th>         <td>    0.0094</td> <td>    0.003</td> <td>    3.515</td> <td> 0.000</td> <td>    0.004     0.015</td>\n",
        "</tr>\n",
        "<tr>\n",
        "  <th>LSTAT</th>     <td>   -0.5245</td> <td>    0.048</td> <td>  -11.018</td> <td> 0.000</td> <td>   -0.618    -0.431</td>\n",
        "</tr>\n",
        "</table>\n",
        "<table class=\"simpletable\">\n",
        "<tr>\n",
        "  <th>Omnibus:</th>       <td>178.356</td> <th>  Durbin-Watson:     </th> <td>   1.077</td> \n",
        "</tr>\n",
        "<tr>\n",
        "  <th>Prob(Omnibus):</th> <td> 0.000</td>  <th>  Jarque-Bera (JB):  </th> <td> 785.541</td> \n",
        "</tr>\n",
        "<tr>\n",
        "  <th>Skew:</th>          <td> 1.523</td>  <th>  Prob(JB):          </th> <td>2.64e-171</td>\n",
        "</tr>\n",
        "<tr>\n",
        "  <th>Kurtosis:</th>      <td> 8.289</td>  <th>  Cond. No.          </th> <td>1.48e+04</td> \n",
        "</tr>\n",
        "</table>"
       ],
       "metadata": {},
       "output_type": "pyout",
       "prompt_number": 358,
       "text": [
        "<class 'statsmodels.iolib.summary.Summary'>\n",
        "\"\"\"\n",
        "                            OLS Regression Results                            \n",
        "==============================================================================\n",
        "Dep. Variable:                   MEDV   R-squared:                       0.741\n",
        "Model:                            OLS   Adj. R-squared:                  0.734\n",
        "Method:                 Least Squares   F-statistic:                     117.3\n",
        "Date:                Tue, 14 Apr 2015   Prob (F-statistic):          6.28e-136\n",
        "Time:                        00:22:23   Log-Likelihood:                -1498.8\n",
        "No. Observations:                 506   AIC:                             3024.\n",
        "Df Residuals:                     493   BIC:                             3079.\n",
        "Df Model:                          12                                         \n",
        "==============================================================================\n",
        "                 coef    std err          t      P>|t|      [95.0% Conf. Int.]\n",
        "------------------------------------------------------------------------------\n",
        "Intercept     36.4666      5.081      7.177      0.000        26.483    46.450\n",
        "CRIM          -0.1072      0.033     -3.279      0.001        -0.171    -0.043\n",
        "ZN             0.0463      0.014      3.401      0.001         0.020     0.073\n",
        "INDUS          0.0209      0.061      0.340      0.734        -0.100     0.142\n",
        "CHAS           2.6911      0.860      3.130      0.002         1.002     4.380\n",
        "NOX          -17.7382      3.680     -4.820      0.000       -24.969   -10.508\n",
        "RM             3.8097      0.409      9.325      0.000         3.007     4.612\n",
        "DIS           -1.4791      0.191     -7.758      0.000        -1.854    -1.104\n",
        "RAD            0.3054      0.066      4.622      0.000         0.176     0.435\n",
        "TAX           -0.0123      0.004     -3.281      0.001        -0.020    -0.005\n",
        "PTRATIO       -0.9529      0.130     -7.313      0.000        -1.209    -0.697\n",
        "B              0.0094      0.003      3.515      0.000         0.004     0.015\n",
        "LSTAT         -0.5245      0.048    -11.018      0.000        -0.618    -0.431\n",
        "==============================================================================\n",
        "Omnibus:                      178.356   Durbin-Watson:                   1.077\n",
        "Prob(Omnibus):                  0.000   Jarque-Bera (JB):              785.541\n",
        "Skew:                           1.523   Prob(JB):                    2.64e-171\n",
        "Kurtosis:                       8.289   Cond. No.                     1.48e+04\n",
        "==============================================================================\n",
        "\n",
        "Warnings:\n",
        "[1] The condition number is large, 1.48e+04. This might indicate that there are\n",
        "strong multicollinearity or other numerical problems.\n",
        "\"\"\""
       ]
      }
     ],
     "prompt_number": 358
    },
    {
     "cell_type": "code",
     "collapsed": false,
     "input": [],
     "language": "python",
     "metadata": {},
     "outputs": []
    }
   ],
   "metadata": {}
  }
 ]
}